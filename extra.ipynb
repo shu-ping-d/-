{
 "cells": [
  {
   "cell_type": "code",
   "execution_count": 7,
   "metadata": {},
   "outputs": [
    {
     "name": "stdout",
     "output_type": "stream",
     "text": [
      "輸入攝氏溫度:4,5,6\n",
      "186624\n"
     ]
    }
   ],
   "source": [
    "def Compound_interest(P,r,t):\n",
    "    S=P*(1+r)**t\n",
    "    return S\n",
    "(P,r,t) = eval(input(\"輸入攝氏溫度:\"))\n",
    "re=Compound_interest(P,r,t)\n",
    "print(re)"
   ]
  },
  {
   "cell_type": "code",
   "execution_count": 10,
   "metadata": {},
   "outputs": [
    {
     "name": "stdout",
     "output_type": "stream",
     "text": [
      "[65, 39, 221]\n"
     ]
    }
   ],
   "source": [
    "List1=[12,65,54,39,102,339,221,50,70]\n",
    "f = lambda x: True if x %13 ==0 else False\n",
    "scores = list(filter(f, List1))\n",
    "print(scores)"
   ]
  },
  {
   "cell_type": "code",
   "execution_count": 17,
   "metadata": {},
   "outputs": [
    {
     "name": "stdout",
     "output_type": "stream",
     "text": [
      "[3, 5]\n"
     ]
    }
   ],
   "source": [
    "arr1 = [1, 3, 4, 5, 7]\n",
    "arr2 = [2, 3, 5, 6]\n",
    "f = lambda arr1:True if arr1 in arr2 else False\n",
    "intersection = list(filter(f,arr1))\n",
    "print(intersection)"
   ]
  },
  {
   "cell_type": "code",
   "execution_count": 22,
   "metadata": {},
   "outputs": [
    {
     "name": "stdout",
     "output_type": "stream",
     "text": [
      "[2, 6]\n"
     ]
    }
   ],
   "source": [
    "arr1 = [1, 3, 4, 5, 7]\n",
    "arr2 = [2, 3, 5, 6]\n",
    "f = lambda arr2:True if arr2 not in arr1 else False\n",
    "answer = list(filter(f,arr2))\n",
    "print(answer)"
   ]
  },
  {
   "cell_type": "code",
   "execution_count": 5,
   "metadata": {},
   "outputs": [
    {
     "name": "stdout",
     "output_type": "stream",
     "text": [
      "1 1\n",
      "1 3\n",
      "1 5\n",
      "3 1\n",
      "3 3\n",
      "3 5\n",
      "5 1\n",
      "5 3\n",
      "5 5\n",
      "2 2\n",
      "2 4\n",
      "4 2\n",
      "4 4\n"
     ]
    }
   ],
   "source": [
    "for i in range(1, 6, 2):\n",
    "    for j in range(1, 6, 2):\n",
    "        print(i,j)\n",
    "for i in range(2, 6, 2):\n",
    "    for j in range(2, 6, 2):\n",
    "        print(i,j)"
   ]
  },
  {
   "cell_type": "code",
   "execution_count": 8,
   "metadata": {},
   "outputs": [
    {
     "name": "stdout",
     "output_type": "stream",
     "text": [
      "輸入m*n的矩陣:(m,n)5,6\n",
      "1 1\n",
      "1 3\n",
      "1 5\n",
      "3 1\n",
      "3 3\n",
      "3 5\n",
      "5 1\n",
      "5 3\n",
      "5 5\n",
      "2 2\n",
      "2 4\n",
      "2 6\n",
      "4 2\n",
      "4 4\n",
      "4 6\n"
     ]
    }
   ],
   "source": [
    "(m,n) = eval(input(\"輸入m*n的矩陣:(m,n)\"))\n",
    "for i in range(1, m+1, 2):\n",
    "    for j in range(1, n+1, 2):\n",
    "        print(i,j)\n",
    "for i in range(2, m+1, 2):\n",
    "    for j in range(2, n+1, 2):\n",
    "        print(i,j)"
   ]
  },
  {
   "cell_type": "code",
   "execution_count": null,
   "metadata": {},
   "outputs": [],
   "source": []
  }
 ],
 "metadata": {
  "kernelspec": {
   "display_name": "Python 3",
   "language": "python",
   "name": "python3"
  },
  "language_info": {
   "codemirror_mode": {
    "name": "ipython",
    "version": 3
   },
   "file_extension": ".py",
   "mimetype": "text/x-python",
   "name": "python",
   "nbconvert_exporter": "python",
   "pygments_lexer": "ipython3",
   "version": "3.7.4"
  }
 },
 "nbformat": 4,
 "nbformat_minor": 2
}
